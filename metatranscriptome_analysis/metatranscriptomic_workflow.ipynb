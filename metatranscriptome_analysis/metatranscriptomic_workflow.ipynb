{
 "cells": [
  {
   "cell_type": "markdown",
   "metadata": {},
   "source": [
    "# Metatranscriptomic workflow"
   ]
  },
  {
   "cell_type": "markdown",
   "metadata": {},
   "source": [
    "## All scripts and commands used for the pre-processing and mapping of metatrascriptomic data"
   ]
  },
  {
   "cell_type": "markdown",
   "metadata": {},
   "source": [
    "#### All code was run on ACE servers. Code chunks beginning with #!/bin/bash were run as separate scripts"
   ]
  },
  {
   "cell_type": "markdown",
   "metadata": {},
   "source": [
    "### Concatenate samples"
   ]
  },
  {
   "cell_type": "code",
   "execution_count": null,
   "metadata": {},
   "outputs": [],
   "source": [
    "ls -d PB* | cut -d '_' -f 3 | parallel -j 15 \"cat PBJC_20190115_{}/*_1.fq.gz > {}_1_concatenated.fq.gz && echo \"{}_done\" \""
   ]
  },
  {
   "cell_type": "markdown",
   "metadata": {},
   "source": [
    "### Trim adaptors and low quality seqs"
   ]
  },
  {
   "cell_type": "code",
   "execution_count": null,
   "metadata": {},
   "outputs": [],
   "source": [
    "#!/bin/bash\n",
    "\n",
    "# load programs\n",
    "module load ngs-bits\n",
    "module load parallel/20180222\n",
    "\n",
    "# trim seqs\n",
    "ls *_1_*.gz | cut -d '_' -f 1 | parallel -j 5 \\\n",
    "SeqPurge \\\n",
    "-in1 {}_1_concatenated.fq.gz \\\n",
    "-in2 {}_2_concatenated.fq.gz \\\n",
    "-out1 /srv/projects3/sponge_metatranscriptome/Data/Cut_adapt/{}_1_trimmed.fq.gz \\\n",
    "-out2 /srv/projects3/sponge_metatranscriptome/Data/Cut_adapt/{}_2_trimmed.fq.gz \\\n",
    "-a1 AAGTCGGAGGCCAAGCGGTCTTAGGAAGACAA \\\n",
    "-a2 AAGTCGGATCGTAGCCATGTCGTTCTGTGAGCCAAGGAGTTG \\\n",
    "-threads 6 \\\n",
    "-out3 {}_singleton \\\n",
    "-summary summary\n",
    "\n",
    "conda deactivate"
   ]
  },
  {
   "cell_type": "markdown",
   "metadata": {},
   "source": [
    "### Run sortmeRNA to remove rRNA contamination "
   ]
  },
  {
   "cell_type": "code",
   "execution_count": null,
   "metadata": {},
   "outputs": [],
   "source": [
    "#!/bin/bash\n",
    "\n",
    "# load programs\n",
    "module load parallel/20180222\n",
    "conda activate sortmerna_4.2.0\n",
    "\n",
    "# run SortmeRNA\n",
    "ls *_1_*.gz | cut -d '_' -f 1 | parallel -j 4 \\\n",
    "echo sorting_{} && \\\n",
    "sortmerna \\\n",
    "--ref /srv/db/sortmerna/4.0.0/rRNA_databases/rfam-5.8s-database-id98.fasta \\\n",
    "--ref /srv/db/sortmerna/4.0.0/rRNA_databases/rfam-5s-database-id98.fasta \\\n",
    "--ref /srv/db/sortmerna/4.0.0/rRNA_databases/silva-arc-16s-id95.fasta \\\n",
    "--ref /srv/db/sortmerna/4.0.0/rRNA_databases/silva-arc-23s-id98.fasta \\\n",
    "--ref /srv/db/sortmerna/4.0.0/rRNA_databases/silva-bac-16s-id90.fasta \\\n",
    "--ref /srv/db/sortmerna/4.0.0/rRNA_databases/silva-bac-23s-id98.fasta \\\n",
    "--ref /srv/db/sortmerna/4.0.0/rRNA_databases/silva-euk-18s-id95.fasta \\\n",
    "--ref /srv/db/sortmerna/4.0.0/rRNA_databases/silva-euk-28s-id98.fasta \\\n",
    "--reads /srv/projects3/sponge_metatranscriptome/Data/SeqPurge/Trimmed_reads/{}_1_trimmed.fq.gz \\\n",
    "--reads /srv/projects3/sponge_metatranscriptome/Data/SeqPurge/Trimmed_reads/{}_2_trimmed.fq.gz \\\n",
    "--workdir /srv/projects3/sponge_metatranscriptome/Data/Sortmerna/{}/ \\\n",
    "--fastx \\\n",
    "--sam \\\n",
    "--aligned {}_aligned_rrna \\\n",
    "--other {}_non-aligned_rrna \\\n",
    "--paired_in \\\n",
    "--out2 \\\n",
    "--threads 12\n",
    "\n",
    "conda deactivate"
   ]
  },
  {
   "cell_type": "markdown",
   "metadata": {},
   "source": [
    "## Map metatranscriptomic reads to reference MAGs"
   ]
  },
  {
   "cell_type": "markdown",
   "metadata": {},
   "source": [
    "Note: run separately for each host species. i.e., map reads from one host to the MAGs derived from the same species"
   ]
  },
  {
   "cell_type": "markdown",
   "metadata": {},
   "source": [
    "### First dereplicate MAGs from host species"
   ]
  },
  {
   "cell_type": "markdown",
   "metadata": {},
   "source": [
    "#### Carterio"
   ]
  },
  {
   "cell_type": "markdown",
   "metadata": {},
   "source": [
    "Get checkm quality"
   ]
  },
  {
   "cell_type": "code",
   "execution_count": null,
   "metadata": {},
   "outputs": [],
   "source": [
    "#!/bin/bash\n",
    "\n",
    "# load programs\n",
    "conda activate checkm-genome-1.1.3\n",
    "\n",
    "# checkm quality\n",
    "checkm lineage_wf \\\n",
    "/srv/projects3/sponge_metatranscriptome/Data/Reference_MAGs/Carterio/ \\\n",
    "/srv/projects3/sponge_metatranscriptome/Data/Reference_MAGs/checkm_car \\\n",
    "-x fna -t 16\n",
    "\n",
    "# Create checkm file\n",
    "# Note: for use in coverm cluster (dereplication), need short checkm output\n",
    "# short = 1, long = 2\n",
    "checkm qa \\\n",
    "/srv/projects3/sponge_metatranscriptome/Data/Reference_MAGs/checkm_car/lineage.ms \\\n",
    "/srv/projects3/sponge_metatranscriptome/Data/Reference_MAGs/checkm_car \\\n",
    "-o 1 -f /srv/projects3/sponge_metatranscriptome/Data/Reference_MAGs/checkm_car/checkm_car_short.tsv --tab_table -t 16\n",
    "\n",
    "conda deactivate"
   ]
  },
  {
   "cell_type": "markdown",
   "metadata": {},
   "source": [
    "Run coverm cluster to dereplicate genomes"
   ]
  },
  {
   "cell_type": "code",
   "execution_count": null,
   "metadata": {},
   "outputs": [],
   "source": [
    "#!/bin/bash\n",
    "\n",
    "# load programs\n",
    "conda activate coverm-0.6.0\n",
    "\n",
    "# dereplicate genomes\n",
    "coverm cluster \\\n",
    "--genome-fasta-directory /srv/projects3/sponge_metatranscriptome/Data/Reference_MAGs/Carterio/ \\\n",
    "-x fna \\\n",
    "--ani 95 \\\n",
    "--checkm-tab-table /srv/projects3/sponge_metatranscriptome/Data/Reference_MAGs/checkm_car/checkm_car_short.tsv \\\n",
    "--output-representative-fasta-directory /srv/projects3/sponge_metatranscriptome/Data/Reference_MAGs/Carterio/Dereplicated \\\n",
    "--precluster-method finch \\\n",
    "--min-completeness 50 \\\n",
    "--max-contamination 10 \\\n",
    "-t 16\n",
    "\n",
    "conda deactivate"
   ]
  },
  {
   "cell_type": "markdown",
   "metadata": {},
   "source": [
    "#### Ircinia blue"
   ]
  },
  {
   "cell_type": "markdown",
   "metadata": {},
   "source": [
    "Get checkm quality"
   ]
  },
  {
   "cell_type": "code",
   "execution_count": null,
   "metadata": {},
   "outputs": [],
   "source": [
    "#!/bin/bash\n",
    "\n",
    "# load programs\n",
    "conda activate checkm-genome-1.1.3\n",
    "\n",
    "checkm lineage_wf \\\n",
    "/srv/projects3/sponge_metatranscriptome/Data/Reference_MAGs/Iblue/ \\\n",
    "/srv/projects3/sponge_metatranscriptome/Data/Reference_MAGs/checkm_iblue \\\n",
    "-x fa -t 16\n",
    "\n",
    "# Create checkm file\n",
    "checkm qa \\\n",
    "/srv/projects3/sponge_metatranscriptome/Data/Reference_MAGs/checkm_iblue/lineage.ms \\\n",
    "/srv/projects3/sponge_metatranscriptome/Data/Reference_MAGs/checkm_iblue \\\n",
    "-o 1 -f /srv/projects3/sponge_metatranscriptome/Data/Reference_MAGs/checkm_iblue/checkm_iblue_short.tsv --tab_table -t 16\n",
    "\n",
    "conda deactivate"
   ]
  },
  {
   "cell_type": "markdown",
   "metadata": {},
   "source": [
    "Run coverm cluster to dereplicate genomes"
   ]
  },
  {
   "cell_type": "code",
   "execution_count": null,
   "metadata": {},
   "outputs": [],
   "source": [
    "#!/bin/bash\n",
    "\n",
    "# load programs\n",
    "conda activate coverm-0.6.0\n",
    "\n",
    "# dereplicate genomes\n",
    "coverm cluster \\\n",
    "--genome-fasta-directory /srv/projects3/sponge_metatranscriptome/Data/Reference_MAGs/Iblue/ \\\n",
    "-x fa \\\n",
    "--ani 95 \\\n",
    "--checkm-tab-table /srv/projects3/sponge_metatranscriptome/Data/Reference_MAGs/checkm_car/checkm_iblue_short.tsv \\\n",
    "--output-representative-fasta-directory /srv/projects3/sponge_metatranscriptome/Data/Reference_MAGs/Iblue/Dereplicated \\\n",
    "--precluster-method finch \\\n",
    "--min-completeness 50 \\\n",
    "--max-contamination 10 \\\n",
    "-t 16\n",
    "\n",
    "conda deactivate"
   ]
  },
  {
   "cell_type": "markdown",
   "metadata": {},
   "source": [
    "#### Ircinia ramosa"
   ]
  },
  {
   "cell_type": "markdown",
   "metadata": {},
   "source": [
    "Get checkm quality"
   ]
  },
  {
   "cell_type": "code",
   "execution_count": null,
   "metadata": {},
   "outputs": [],
   "source": [
    "#!/bin/bash\n",
    "\n",
    "# load programs\n",
    "conda activate checkm-genome-1.1.3\n",
    "\n",
    "# get checkm quality\n",
    "checkm lineage_wf \\\n",
    "/srv/projects3/sponge_metatranscriptome/Data/Reference_MAGs/I_ramosa \\\n",
    "/srv/projects3/sponge_metatranscriptome/Data/Reference_MAGs/checkm_iramosa \\\n",
    "-x fa -t 16\n",
    "\n",
    "# Create checkm file\n",
    "checkm qa \\\n",
    "/srv/projects3/sponge_metatranscriptome/Data/Reference_MAGs/checkm_iramosa/lineage.ms \\\n",
    "/srv/projects3/sponge_metatranscriptome/Data/Reference_MAGs/checkm_iramosa \\\n",
    "-o 1 -f /srv/projects3/sponge_metatranscriptome/Data/Reference_MAGs/checkm_iramosa/checkm_irc_short.tsv --tab_table -t 1\n",
    "\n",
    "conda deactivate"
   ]
  },
  {
   "cell_type": "markdown",
   "metadata": {},
   "source": [
    "Run coverm cluster to dereplicate genomes"
   ]
  },
  {
   "cell_type": "code",
   "execution_count": null,
   "metadata": {},
   "outputs": [],
   "source": [
    "#!/bin/bash\n",
    "\n",
    "# load programs\n",
    "conda activate coverm-0.6.0\n",
    "\n",
    "coverm cluster \\\n",
    "--genome-fasta-directory /srv/projects3/sponge_metatranscriptome/Data/Reference_MAGs/I_ramosa \\\n",
    "-x fa \\\n",
    "--ani 95 \\\n",
    "--checkm-tab-table /srv/projects3/sponge_metatranscriptome/Data/Reference_MAGs/checkm_iramosa/checkm_irc_short.tsv \\\n",
    "--output-representative-fasta-directory /srv/projects3/sponge_metatranscriptome/Data/Reference_MAGs/I_ramosa/Derep_95 \\\n",
    "--precluster-method finch \\\n",
    "--min-completeness 50 \\\n",
    "--max-contamination 10 \\\n",
    "-t 1\n",
    "\n",
    "conda deactivate"
   ]
  },
  {
   "cell_type": "markdown",
   "metadata": {},
   "source": [
    "### Concatenate into one reference file"
   ]
  },
  {
   "cell_type": "code",
   "execution_count": null,
   "metadata": {},
   "outputs": [],
   "source": [
    "#Carterio\n",
    "cat Carterio/Dereplicate/*.fna > combined_mags_carterio.fna\n",
    "\n",
    "#Ircinia blue\n",
    "cat Iblue/Dereplicated/*.fa > combined_mags_iblue.fna\n",
    "\n",
    "#Ircinia ramosa\n",
    "cat I_ramosa/Derep_95/*.fa > combined_mags_iramosa.fna"
   ]
  },
  {
   "cell_type": "markdown",
   "metadata": {},
   "source": [
    "### Make bam files using coverM"
   ]
  },
  {
   "cell_type": "code",
   "execution_count": null,
   "metadata": {},
   "outputs": [],
   "source": [
    "#!/bin/bash\n",
    "\n",
    "# load programs\n",
    "conda activate coverm-0.6.0\n",
    "\n",
    "# Carterio\n",
    "coverm make \\\n",
    "-c /srv/projects3/sponge_metatranscriptome/Data/Shangjin/Car* \\\n",
    "-r /srv/projects3/sponge_metatranscriptome/Data/Reference_MAGs/Carterio/Dereplicated/combined_mags_carterio.fna \\\n",
    "-o /srv/projects3/sponge_metatranscriptome/Bam_files/Car \\\n",
    "-t 20\n",
    "\n",
    "# Ircinia blue\n",
    "coverm make \\\n",
    "-c /srv/projects3/sponge_metatranscriptome/Data/Shangjin/IrB* \\\n",
    "-r /srv/projects3/sponge_metatranscriptome/Data/Reference_MAGs/Iblue/Dereplicated/combined_mags_iblue.fna \\\n",
    "-o /srv/projects3/sponge_metatranscriptome/Bam_files/IrB \\\n",
    "-t 20\n",
    "\n",
    "# Ircinia ramosa\n",
    "coverm make \\\n",
    "-c /srv/projects3/sponge_metatranscriptome/Data/Inka/irc* \\\n",
    "-r /srv/projects3/sponge_metatranscriptome/Data/Reference_MAGs/I_ramosa/Derep_95/combined_mags_iramosa.fna \\\n",
    "-o /srv/projects3/sponge_metatranscriptome/Bam_files/Irc \\\n",
    "-t 20\n",
    "\n",
    "conda deactivate"
   ]
  },
  {
   "cell_type": "markdown",
   "metadata": {},
   "source": [
    "### Sort bam files using sam tools"
   ]
  },
  {
   "cell_type": "code",
   "execution_count": null,
   "metadata": {},
   "outputs": [],
   "source": [
    "#!/bin/bash\n",
    "\n",
    "# load programs\n",
    "conda activate samtools_1.11\n",
    "\n",
    "# sort bam files\n",
    "\n",
    "#Note: bam files are sorted by name for input to htseq,\n",
    "# this makes them incompatible with samtools index command\n",
    "\n",
    "for BAM in $(ls /srv/projects3/sponge_metatranscriptome/Bam_files/*/*.bam); do\n",
    "# get variables\n",
    "    PREF=$(basename $BAM | cut -d \".\" -f 3 | cut -d \"_\" -f 1)\n",
    "    echo \"sorting $BAM\"\n",
    "    echo \"basename is $PREF\"\n",
    "# run samtools\n",
    "    samtools sort $BAM -o /srv/projects3/sponge_metatranscriptome/Bam_files/Sorted/${PREF}_sorted.bam -n -m 40G -@ 12\n",
    "done\n",
    "\n",
    "conda deactivate"
   ]
  },
  {
   "cell_type": "markdown",
   "metadata": {},
   "source": [
    "### Annotate reference MAGs for analysis"
   ]
  },
  {
   "cell_type": "code",
   "execution_count": null,
   "metadata": {},
   "outputs": [],
   "source": [
    "#!/bin/bash\n",
    "\n",
    "# load programs\n",
    "conda activate enrichm_0.6.3\n",
    "\n",
    "# For caterio combined MAGs\n",
    "enrichm annotate \\\n",
    "--output /srv/projects3/sponge_metatranscriptome/Annotation/Combined_mags/Carterio \\\n",
    "--genome_file /srv/projects3/sponge_metatranscriptome/Data/Reference_MAGs/Carterio/Dereplicated/combined_mags_carterio.fna \\\n",
    "--ko \\\n",
    "--pfam \\\n",
    "--cazy \\\n",
    "--threads 16 \\\n",
    "--force \\\n",
    "--suffix .fna\n",
    "\n",
    "# For Iblue combined MAGs\n",
    "enrichm annotate \\\n",
    "--output /srv/projects3/sponge_metatranscriptome/Annotation/Combined_mags/Iblue \\\n",
    "--genome_file /srv/projects3/sponge_metatranscriptome/Data/Reference_MAGs/Iblue/Dereplicated/combined_mags_iblue.fna \\\n",
    "--ko \\\n",
    "--pfam \\\n",
    "--cazy \\\n",
    "--threads 16 \\\n",
    "--force \\\n",
    "--suffix .fna\n",
    "\n",
    "## Killed - VERY SLOW FOR IBLUE - STILL RUNNING AFTER 9DAYS\n",
    "\n",
    "conda deactivate"
   ]
  },
  {
   "cell_type": "markdown",
   "metadata": {},
   "source": [
    "Try annotating each genome separately, then concatenating .gff files"
   ]
  },
  {
   "cell_type": "code",
   "execution_count": null,
   "metadata": {},
   "outputs": [],
   "source": [
    "#!/bin/bash\n",
    "\n",
    "# load programs\n",
    "conda activate enrichm_0.6.3\n",
    "\n",
    "enrichm annotate \\\n",
    "--output /srv/projects3/sponge_metatranscriptome/Annotation/Dereplicated_mags/Iblue \\\n",
    "--genome_directory /srv/projects3/sponge_metatranscriptome/Data/Reference_MAGs/Iblue/Dereplicated/ \\\n",
    "--ko \\\n",
    "--pfam \\\n",
    "--cazy \\\n",
    "--threads 20 \\\n",
    "--force \\\n",
    "--suffix .fa\n",
    "\n",
    "for FILE in *.gff; do echo $FILE; cat $FILE >> iblue_combined.gff; done\n",
    "\n",
    "\n",
    "# Ircinia ramosa\n",
    "# Trying above method (annnotate then concatenate) to save computing time\n",
    "\n",
    "enrichm annotate \\\n",
    "--output /srv/projects3/sponge_metatranscriptome/Annotate/ \\\n",
    "--genome_directory /srv/projects3/sponge_metatranscriptome/Data/Reference_MAGs/I_ramosa/Derep_95 \\\n",
    "--ko \\\n",
    "--pfam \\\n",
    "--cazy \\\n",
    "--threads 20 \\\n",
    "--force \\\n",
    "--suffix .fa\n",
    "\n",
    "for FILE in /srv/projects3/sponge_metatranscriptome/Annotate/*.gff; do echo $FILE; cat $FILE >> iramosa_combined.gff; done\n",
    "\n",
    "conda deactivate"
   ]
  },
  {
   "cell_type": "markdown",
   "metadata": {},
   "source": [
    "### Run HTseq-count to count number of reads that map to genes"
   ]
  },
  {
   "cell_type": "code",
   "execution_count": null,
   "metadata": {},
   "outputs": [],
   "source": [
    "#!/bin/bash\n",
    "\n",
    "# load programs\n",
    "module load htseq/0.9.1\n",
    "\n",
    "# Note: counting transcripts from each sample separately\n",
    "\n",
    "#Carterio\n",
    "for FILE in $(ls /srv/projects3/sponge_metatranscriptome/Bam_files/Sorted/Car*.bam); do\n",
    "# Check variable\n",
    "        PREF=$(echo $FILE | cut -d '/' -f 7 | cut -d '_' -f 1)\n",
    "        echo $FILE\n",
    "        echo $PREF\n",
    "# Run htseq\n",
    "\thtseq-count $FILE \\\n",
    "        /srv/projects3/sponge_metatranscriptome/Annotation/Combined_mags/Carterio/annotations_gff/combined_mags_carterio.gff \\\n",
    "        -f bam \\\n",
    "        -s no \\\n",
    "        -t CDS \\\n",
    "        -i seq_id \\\n",
    "        --additional-attr annotations > /srv/projects3/sponge_metatranscriptome/HTseq/Carterio/${PREF}_htseq.csv\n",
    "done\n",
    "\n",
    "#IBlue\n",
    "for FILE in $(ls /srv/projects3/sponge_metatranscriptome/Bam_files/Sorted/IrB*.bam); do\n",
    "# Check variable\n",
    "        PREF=$(echo $FILE | cut -d '/' -f 7 | cut -d '_' -f 1)\n",
    "        echo $FILE\n",
    "        echo $PREF\n",
    "# Run htseq\n",
    "\thtseq-count $FILE \\\n",
    "        ~/Metatranscriptomics/Annotation/Dereplicated_mags/Iblue/annotations_gff/iblue_combined.gff \\\n",
    "        -f bam \\\n",
    "        -s no \\\n",
    "        -t CDS \\\n",
    "        -i seq_id \\\n",
    "        --additional-attr annotations > /srv/projects3/sponge_metatranscriptome/HTseq/Iblue/${PREF}_htseq.csv\n",
    "done\n",
    "\n",
    "#I ramosa\n",
    "for FILE in $(ls /srv/projects3/sponge_metatranscriptome/Bam_files/Sorted/irc*.bam); do\n",
    "# Check variable\n",
    "        PREF=$(echo $FILE | cut -d '/' -f 7 | cut -d '_' -f 1)\n",
    "        echo $FILE\n",
    "        echo $PREF\n",
    "# Run htseq\n",
    "\thtseq-count $FILE \\\n",
    "        /srv/projects3/sponge_metatranscriptome/Annotate_iramosa/annotations_gff/iramosa_combined.gff \\\n",
    "        -f bam \\\n",
    "        -s reverse \\\n",
    "        -t CDS \\\n",
    "        -i seq_id \\\n",
    "        --additional-attr annotations > /srv/projects3/sponge_metatranscriptome/HTseq/${PREF}_htseq.csv\n",
    "done\n",
    "\n",
    "conda deactivate"
   ]
  },
  {
   "cell_type": "markdown",
   "metadata": {},
   "source": [
    "### Create mag-contig mapping file"
   ]
  },
  {
   "cell_type": "code",
   "execution_count": null,
   "metadata": {},
   "outputs": [],
   "source": [
    "#First get contigs to grep\n",
    "\n",
    "cat IrB4_htseq.csv | awk '{print $1}' | cut -d '_' -f 1-6 | uniq > to_grep.txt\n",
    "\n",
    "# grep through each contig in each mag and save output\n",
    "for MAG in 5*.fa; do grep -F -f to_grep.txt $MAG /dev/null >> mag_contig_iblue; done\n",
    "\n",
    "#note: -f Obtains patterns from a file -F interprets patterns from the file as a fixed string\n",
    "\n",
    "#Convert to tab separated file\n",
    "sed -i -e 's/:>/\\t/g' mag_contig_iblue \n",
    "\n",
    "#Clean MAG names\n",
    "sed -i -e 's/.fa//g' mag_contig_iblue "
   ]
  },
  {
   "cell_type": "markdown",
   "metadata": {},
   "source": [
    "### Check mapping success using coverm genome coverage"
   ]
  },
  {
   "cell_type": "code",
   "execution_count": null,
   "metadata": {},
   "outputs": [],
   "source": [
    "#!/bin/bash\n",
    "\n",
    "# load programs\n",
    "conda activate coverm-0.6.0\n",
    "\n",
    "#Get proportion of reads that map to genomes\n",
    "\n",
    "#Carterio\n",
    "coverm genome \\\n",
    "-t 20 \\\n",
    "-m relative_abundance \\\n",
    "-d ~/Metatranscriptomics/Reference_MAGs/Carterio/Dereplicated \\\n",
    "-c ~/Metatranscriptomics/Sorted_reads_Shangjin/Car*.fq.gz \\\n",
    "--min-read-aligned-percent 0.75 \\\n",
    "--min-read-percent-identity 0.95 \\\n",
    "--output-format dense \\\n",
    "-o carterio_metatranscriptome_mapping.tsv\n",
    "\n",
    "#IBlue\n",
    "coverm genome \\\n",
    "-t 20 \\\n",
    "-m relative_abundance \\\n",
    "-d ~/Metatranscriptomics/Reference_MAGs/Iblue/Dereplicated \\\n",
    "-c ~/Metatranscriptomics/Sorted_reads_Shangjin/IrB*.fq.gz \\\n",
    "-x fa \\\n",
    "--min-read-aligned-percent 0.75 \\\n",
    "--min-read-percent-identity 0.95 \\\n",
    "--output-format dense \\\n",
    "-o iblue_metatranscriptome_mapping.tsv\n",
    "\n",
    "#I ramosa\n",
    "coverm genome \\\n",
    "-t 20 \\\n",
    "-m relative_abundance \\\n",
    "-d /srv/projects3/sponge_metatranscriptome/Data/Reference_MAGs/I_ramosa/Derep_95 \\\n",
    "-c /srv/projects3/sponge_metatranscriptome/Data/Inka/*.fq.gz \\\n",
    "-x fa \\\n",
    "--min-read-aligned-percent 0.75 \\\n",
    "--min-read-percent-identity 0.95 \\\n",
    "--output-format dense \\\n",
    "-o ~/Metatranscriptomics/Coverage/iramosa_metatranscriptome_mapping.tsv\n",
    "\n",
    "conda deactivate"
   ]
  }
 ],
 "metadata": {
  "kernelspec": {
   "display_name": "Bash",
   "language": "bash",
   "name": "bash"
  },
  "language_info": {
   "codemirror_mode": "shell",
   "file_extension": ".sh",
   "mimetype": "text/x-sh",
   "name": "bash"
  }
 },
 "nbformat": 4,
 "nbformat_minor": 4
}
