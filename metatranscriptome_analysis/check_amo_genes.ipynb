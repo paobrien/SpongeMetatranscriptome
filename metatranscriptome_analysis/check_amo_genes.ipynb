{
 "cells": [
  {
   "cell_type": "markdown",
   "metadata": {},
   "source": [
    "# Determine whether amoA genes are functional by placing in a tree with known functional genes"
   ]
  },
  {
   "cell_type": "markdown",
   "metadata": {},
   "source": [
    "#### First run GraftM to find genes"
   ]
  },
  {
   "cell_type": "code",
   "execution_count": null,
   "metadata": {},
   "outputs": [],
   "source": [
    "#!/bin/bash\n",
    "\n",
    "# load program\n",
    "module load miniconda3\n",
    "conda activate graftm_v0.14.0\n",
    "\n",
    "# set variables\n",
    "GRAFTM_PKG=/srv/db/graftm/7/7.22.particulate_methane_monoocygenase_pmoA_31082015.gpkg\n",
    "OUT_DIR=\"/srv/projects3/sponge_metatranscriptome/graftM\"\n",
    "\n",
    "# run graftM\n",
    "graftM graft \\\n",
    "--forward ~/Data/MAGs/Das_tool/Das_tool_95/*.fa \\\n",
    "--graftm_package $GRAFTM_PKG \\\n",
    "--threads 20 \\\n",
    "--input_sequence_type nucleotide \\\n",
    "--output_directory $OUT_DIR \n",
    "\n",
    "conda deactivate"
   ]
  },
  {
   "cell_type": "markdown",
   "metadata": {},
   "source": [
    "#### Pull out genes identified by GraftM"
   ]
  },
  {
   "cell_type": "code",
   "execution_count": null,
   "metadata": {},
   "outputs": [],
   "source": [
    "# copy keywords file to graftM directory\n",
    "cp /srv/projects/marine_sponge/analyses/EMP_DATA/20190702_graftM_amo_searches/EMP_MAG_symlinks/graftm_amo_all_SpongeDb_Mags/TEMP_amo_keywords.txt \\\n",
    "/srv/projects3/sponge_metatranscriptome/graftM"
   ]
  },
  {
   "cell_type": "code",
   "execution_count": 10,
   "metadata": {},
   "outputs": [
    {
     "name": "stdout",
     "output_type": "stream",
     "text": [
      "Root; d_Bacteria; Methylococcales_pmoA; Methylocaldum_pmoA\n",
      "Root; d_Bacteria; Alphaproteobacteria_pmoA; Methylocystaceae_pmoA1\n",
      "Root; d_Bacteria; Crenothrix_UpmoA\n",
      "Root; d_Bacteria; pxmA\n",
      "Root; Archaea_amoA\n",
      "Root; d_Bacteria; Verrucomicrobia_pmoA\n",
      "Root; d_Bacteria; Actino_Delta_homologues\n",
      "Root; d_Bacteria; Alphaproteobacteria_pmoA; Methylocystaceae_pmoA1; f_Methylocystaceae\n",
      "Root; d_Bacteria; pxmA; Methylocystaceae_pxmA\n",
      "Root; d_Bacteria; Methylococcales_pmoA\n"
     ]
    }
   ],
   "source": [
    "# keywords contains the list of pmoA/amoA to search\n",
    "cd /srv/projects3/sponge_metatranscriptome/graftM\n",
    "cat TEMP_amo_keywords.txt"
   ]
  },
  {
   "cell_type": "code",
   "execution_count": null,
   "metadata": {},
   "outputs": [],
   "source": [
    "# find key words (i.e., genes of interest) in GraftM output and save to new file\n",
    "for DIR in $(ls -d 5*); do\n",
    "    echo $DIR\n",
    "    grep -f TEMP_amo_keywords.txt $DIR/${DIR}_read_tax.tsv > $DIR/${DIR}_xmo_read_ids.txt\n",
    "done"
   ]
  },
  {
   "cell_type": "code",
   "execution_count": null,
   "metadata": {},
   "outputs": [],
   "source": [
    "# clean read ids\n",
    "# note: The read_ids files give the gene name which can be found in the _orf.fa files. \n",
    "# However, it also includes the GraftM hit name, which you have to remove before you can use the xmo_read_ids.txt file to grep the gene names in the orf files\n",
    "for DIR in $(ls -d 5*); do\n",
    "    echo $DIR\n",
    "    cat $DIR/${DIR}_xmo_read_ids.txt | cut -f 1 > $DIR/${DIR}_xmo_read_ids_cut.txt\n",
    "done"
   ]
  },
  {
   "cell_type": "code",
   "execution_count": null,
   "metadata": {},
   "outputs": [],
   "source": [
    "# Now grep the gene name and sequence from the orf file and concatenate to new file. Use sed to append mag name to end of first line\n",
    "for DIR in $(ls -d 5*); do\n",
    "    echo $DIR\n",
    "    if [[ -f $DIR/${DIR}_orf.fa ]]; then # only execute if orf.fa file is found\n",
    "        grep -A 1 -f $DIR/${DIR}_xmo_read_ids_cut.txt $DIR/${DIR}_orf.fa | sed \"1{s/$/_${DIR}/}\" \\ # need to use double quote with variables ('' with interpret the input literally)\n",
    "        >> /srv/projects3/sponge_metatranscriptome/amoA_gene_tree/all_xmo_seqs.fa\n",
    "    fi\n",
    "done"
   ]
  },
  {
   "cell_type": "code",
   "execution_count": 22,
   "metadata": {},
   "outputs": [
    {
     "name": "stdout",
     "output_type": "stream",
     "text": [
      "NODE_2438_length_15059_cov_2.568382_6137_5_123\tRoot; d_Bacteria; Actino_Delta_homologues\n",
      "NODE_3107_length_13349_cov_41.222206_5686_1_87\tRoot; d_Bacteria; Crenothrix_UpmoA\n",
      "NODE_2_length_1720336_cov_136.089026_778481_5_14320\tRoot; d_Bacteria; pxmA\n",
      "NODE_396_length_70699_cov_23.042169_10560_6_195\tRoot; d_Bacteria; Methylococcales_pmoA\n",
      "NODE_195_length_141269_cov_26.460691_85276_4_1479\tRoot; d_Bacteria; Crenothrix_UpmoA\n",
      "NODE_62_length_335342_cov_11.568420_74186_2_1053\tRoot; d_Bacteria; Actino_Delta_homologues\n",
      "NODE_1594_length_37033_cov_105.808805_3487_1_56\tRoot; d_Bacteria; Actino_Delta_homologues\n",
      "NODE_2747_length_18020_cov_17.286613_1836_3_45\tRoot; Archaea_amoA\n",
      "NODE_44_length_309338_cov_9.455486_156013_4_2920\tRoot; d_Bacteria; Actino_Delta_homologues\n",
      "NODE_48_length_280704_cov_28.309643_220369_1_3787\tRoot; d_Bacteria; Methylococcales_pmoA\n",
      "NODE_22335_length_1319_cov_2.919304_1190_5_21\tRoot; d_Bacteria; Methylococcales_pmoA\n",
      "NODE_2161_length_17070_cov_2.663826_6584_5_140\tRoot; d_Bacteria; Actino_Delta_homologues\n"
     ]
    }
   ],
   "source": [
    "# also grep the xmo ids to identify if amo or pmo (without tree)\n",
    "for DIR in $(ls -d 5*); do\n",
    "    if [[ -f $DIR/${DIR}_xmo_read_ids.txt ]]; then\n",
    "        #echo $DIR # to see genome id\n",
    "        cat $DIR/${DIR}_xmo_read_ids.txt\n",
    "    fi\n",
    "done"
   ]
  },
  {
   "cell_type": "markdown",
   "metadata": {},
   "source": [
    "#### From above:\n",
    "#### Only amoA is found in Thaumarchetota\n",
    "512_metabat1_sensitive.077\n",
    "NODE_2747_length_18020_cov_17.286613_1836_3_45\tRoot; Archaea_amoA\n",
    "\n",
    "#### All Desulfobacter are homologues\n",
    "513_metabat1_sensitive.010\n",
    "NODE_44_length_309338_cov_9.455486_156013_4_2920\tRoot; d_Bacteria; Actino_Delta_homologues\n",
    "\n",
    "501_concoct.007\n",
    "NODE_2438_length_15059_cov_2.568382_6137_5_123\tRoot; d_Bacteria; Actino_Delta_homologues\n",
    "\n",
    "567_concoct.066\n",
    "NODE_2161_length_17070_cov_2.663826_6584_5_140\tRoot; d_Bacteria; Actino_Delta_homologues\n",
    "\n",
    "\n"
   ]
  },
  {
   "cell_type": "code",
   "execution_count": null,
   "metadata": {},
   "outputs": [],
   "source": [
    "# Get previously identified amoA functional and non-functional sequences and homologues for tree\n",
    "# note: this file also contain amoA genes and homologues from Robbins 2021 paper\n",
    "# note: using adjusted seqs file as it has formatted names to remove special characters\n",
    "cp /srv/projects/marine_sponge/analyses/EMP_DATA/20191003_genetree_amoA/all_sequences/all_sequences_adjusted.fasta /srv/projects3/sponge_metatranscriptome/amoA_gene_tree/\n",
    "\n",
    "# concatenate with our data\n",
    "cat all_sequences_adjusted.fasta all_xmo_seqs.fa > combined_sequences.fasta"
   ]
  },
  {
   "cell_type": "markdown",
   "metadata": {},
   "source": [
    "#### Align sequences using mafft"
   ]
  },
  {
   "cell_type": "code",
   "execution_count": null,
   "metadata": {},
   "outputs": [],
   "source": [
    "# load mafft\n",
    "conda activate mafft-7.455\n",
    "\n",
    "# align sequences\n",
    "mafft --maxiterate 1000 --localpair combined_sequences.fasta > combined_sequences_aligned_mafft.fasta"
   ]
  },
  {
   "cell_type": "markdown",
   "metadata": {},
   "source": [
    "#### Infer tree using IQtree"
   ]
  },
  {
   "cell_type": "code",
   "execution_count": null,
   "metadata": {},
   "outputs": [],
   "source": [
    "# load iqtree\n",
    "conda activate iqtree_2.1.2  \n",
    "\n",
    "# run tree inference\n",
    "iqtree -s combined_sequences_aligned_mafft.fasta -m LG+G -nt AUTO -ntmax 20"
   ]
  },
  {
   "cell_type": "markdown",
   "metadata": {},
   "source": [
    "#### Export tip labels for ggtree R"
   ]
  },
  {
   "cell_type": "code",
   "execution_count": null,
   "metadata": {},
   "outputs": [],
   "source": [
    "# note: only need tip labls from our MAGs at this point\n",
    "grep \">\" all_xmo_seqs.fa | sed 's/>//g' > amo_tip_labels.txt\n",
    "\n",
    "# note: amo_label and mag_id identified through read_tax.tsv files and gtdb "
   ]
  }
 ],
 "metadata": {
  "kernelspec": {
   "display_name": "Bash",
   "language": "bash",
   "name": "bash"
  },
  "language_info": {
   "codemirror_mode": "shell",
   "file_extension": ".sh",
   "mimetype": "text/x-sh",
   "name": "bash"
  }
 },
 "nbformat": 4,
 "nbformat_minor": 4
}
